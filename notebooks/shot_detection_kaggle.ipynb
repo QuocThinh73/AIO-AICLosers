{
 "cells": [
  {
   "cell_type": "code",
   "execution_count": null,
   "id": "dc082917",
   "metadata": {
    "_cell_guid": "b1076dfc-b9ad-4769-8c92-a6c4dae69d19",
    "_uuid": "8f2839f25d086af736a60e9eeb907d3b93b6e0e5",
    "execution": {
     "iopub.execute_input": "2025-06-23T14:24:47.920473Z",
     "iopub.status.busy": "2025-06-23T14:24:47.920273Z",
     "iopub.status.idle": "2025-06-23T14:24:49.602409Z",
     "shell.execute_reply": "2025-06-23T14:24:49.601652Z"
    },
    "papermill": {
     "duration": 1.686179,
     "end_time": "2025-06-23T14:24:49.603814",
     "exception": false,
     "start_time": "2025-06-23T14:24:47.917635",
     "status": "completed"
    },
    "tags": []
   },
   "outputs": [],
   "source": [
    "!git clone https://github.com/SlimRG/transnetv2pt.git"
   ]
  },
  {
   "cell_type": "code",
   "execution_count": null,
   "id": "161d7f15",
   "metadata": {
    "execution": {
     "iopub.execute_input": "2025-06-23T14:24:49.609141Z",
     "iopub.status.busy": "2025-06-23T14:24:49.608671Z",
     "iopub.status.idle": "2025-06-23T14:24:49.614662Z",
     "shell.execute_reply": "2025-06-23T14:24:49.613995Z"
    },
    "papermill": {
     "duration": 0.009515,
     "end_time": "2025-06-23T14:24:49.615701",
     "exception": false,
     "start_time": "2025-06-23T14:24:49.606186",
     "status": "completed"
    },
    "tags": []
   },
   "outputs": [],
   "source": [
    "%cd transnetv2pt"
   ]
  },
  {
   "cell_type": "code",
   "execution_count": 3,
   "id": "0e1c31c7",
   "metadata": {
    "execution": {
     "iopub.execute_input": "2025-06-23T14:24:49.619988Z",
     "iopub.status.busy": "2025-06-23T14:24:49.619777Z",
     "iopub.status.idle": "2025-06-23T14:24:54.495422Z",
     "shell.execute_reply": "2025-06-23T14:24:54.494757Z"
    },
    "papermill": {
     "duration": 4.879309,
     "end_time": "2025-06-23T14:24:54.496811",
     "exception": false,
     "start_time": "2025-06-23T14:24:49.617502",
     "status": "completed"
    },
    "tags": []
   },
   "outputs": [],
   "source": [
    "from transnetv2pt import predict_video\n",
    "import os"
   ]
  },
  {
   "cell_type": "code",
   "execution_count": null,
   "id": "cf70da92",
   "metadata": {},
   "outputs": [],
   "source": [
    "def process_video(video_path, output_dir):\n",
    "    # Predict\n",
    "    scenes = predict_video(str(video_path), device='cuda', show_progressbar=True)\n",
    "    # Ghi ra file kết quả\n",
    "    video_name = os.path.splitext(os.path.basename(video_path))[0]\n",
    "    output_file = os.path.join(output_dir, f\"{video_name}_shots.json\")\n",
    "    \n",
    "    # Create JSON structure\n",
    "    items = []\n",
    "    for i, (start_frame, end_frame) in enumerate(scenes):\n",
    "        items.append({\n",
    "            \"id\": i,\n",
    "            \"start_frame\": start_frame,\n",
    "            \"end_frame\": end_frame,\n",
    "        })\n",
    "    \n",
    "    data = {\n",
    "        \"total\": len(items),\n",
    "        \"items\": items\n",
    "    }\n",
    "    \n",
    "    with open(output_file, 'w', encoding='utf-8') as f:\n",
    "        json.dump(data, f, indent=2, ensure_ascii=False)"
   ]
  },
  {
   "cell_type": "code",
   "execution_count": null,
   "id": "490b529e",
   "metadata": {},
   "outputs": [],
   "source": [
    "def process_folder(input_folder, output_folder):\n",
    "    os.makedirs(output_folder, exist_ok=True)\n",
    "    for file_name in os.listdir(input_folder):\n",
    "        if file_name.lower().endswith(('.mp4', '.avi', '.mov', '.mkv')):\n",
    "            video_path = os.path.join(input_folder, file_name)\n",
    "            print(f\"Processing: {video_path}\")\n",
    "            process_video(video_path, output_folder)"
   ]
  },
  {
   "cell_type": "code",
   "execution_count": null,
   "id": "ede2a293",
   "metadata": {
    "execution": {
     "iopub.execute_input": "2025-06-23T14:24:54.521283Z",
     "iopub.status.busy": "2025-06-23T14:24:54.521091Z",
     "iopub.status.idle": "2025-06-23T14:33:22.717490Z",
     "shell.execute_reply": "2025-06-23T14:33:22.716565Z"
    },
    "papermill": {
     "duration": 508.200047,
     "end_time": "2025-06-23T14:33:22.719008",
     "exception": false,
     "start_time": "2025-06-23T14:24:54.518961",
     "status": "completed"
    },
    "tags": []
   },
   "outputs": [],
   "source": [
    "input_folder = \"/kaggle/input/videos\"\n",
    "output_folder = \"/kaggle/working/shots\"     \n",
    "\n",
    "process_folder(input_folder, output_folder)"
   ]
  }
 ],
 "metadata": {
  "kaggle": {
   "accelerator": "nvidiaTeslaT4",
   "dataSources": [
    {
     "datasetId": 7664880,
     "sourceId": 12170072,
     "sourceType": "datasetVersion"
    }
   ],
   "dockerImageVersionId": 31040,
   "isGpuEnabled": true,
   "isInternetEnabled": true,
   "language": "python",
   "sourceType": "notebook"
  },
  "kernelspec": {
   "display_name": "Python 3",
   "language": "python",
   "name": "python3"
  },
  "language_info": {
   "codemirror_mode": {
    "name": "ipython",
    "version": 3
   },
   "file_extension": ".py",
   "mimetype": "text/x-python",
   "name": "python",
   "nbconvert_exporter": "python",
   "pygments_lexer": "ipython3",
   "version": "3.11.11"
  },
  "papermill": {
   "default_parameters": {},
   "duration": 521.694885,
   "end_time": "2025-06-23T14:33:25.351054",
   "environment_variables": {},
   "exception": null,
   "input_path": "__notebook__.ipynb",
   "output_path": "__notebook__.ipynb",
   "parameters": {},
   "start_time": "2025-06-23T14:24:43.656169",
   "version": "2.6.0"
  }
 },
 "nbformat": 4,
 "nbformat_minor": 5
}
