{
 "cells": [
  {
   "cell_type": "code",
   "execution_count": 1,
   "id": "fe08ac33",
   "metadata": {
    "_cell_guid": "b1076dfc-b9ad-4769-8c92-a6c4dae69d19",
    "_uuid": "8f2839f25d086af736a60e9eeb907d3b93b6e0e5",
    "execution": {
     "iopub.execute_input": "2025-06-09T13:43:35.587699Z",
     "iopub.status.busy": "2025-06-09T13:43:35.587498Z",
     "iopub.status.idle": "2025-06-09T13:43:37.172122Z",
     "shell.execute_reply": "2025-06-09T13:43:37.170875Z"
    },
    "papermill": {
     "duration": 1.58975,
     "end_time": "2025-06-09T13:43:37.174578",
     "exception": false,
     "start_time": "2025-06-09T13:43:35.584828",
     "status": "completed"
    },
    "tags": []
   },
   "outputs": [
    {
     "name": "stdout",
     "output_type": "stream",
     "text": [
      "Cloning into 'TransNetV2'...\r\n",
      "remote: Enumerating objects: 362, done.\u001b[K\r\n",
      "remote: Counting objects: 100% (88/88), done.\u001b[K\r\n",
      "remote: Compressing objects: 100% (17/17), done.\u001b[K\r\n",
      "remote: Total 362 (delta 71), reused 71 (delta 71), pack-reused 274 (from 1)\u001b[K\r\n",
      "Receiving objects: 100% (362/362), 95.25 KiB | 2.16 MiB/s, done.\r\n",
      "Resolving deltas: 100% (210/210), done.\r\n"
     ]
    }
   ],
   "source": [
    "!git clone https://github.com/soCzech/TransNetV2"
   ]
  },
  {
   "cell_type": "code",
   "execution_count": 2,
   "id": "5499f99f",
   "metadata": {
    "execution": {
     "iopub.execute_input": "2025-06-09T13:43:37.185873Z",
     "iopub.status.busy": "2025-06-09T13:43:37.185484Z",
     "iopub.status.idle": "2025-06-09T13:43:41.196869Z",
     "shell.execute_reply": "2025-06-09T13:43:41.196101Z"
    },
    "papermill": {
     "duration": 4.018988,
     "end_time": "2025-06-09T13:43:41.198314",
     "exception": false,
     "start_time": "2025-06-09T13:43:37.179326",
     "status": "completed"
    },
    "tags": []
   },
   "outputs": [
    {
     "name": "stdout",
     "output_type": "stream",
     "text": [
      "Collecting ffmpeg-python\r\n",
      "  Downloading ffmpeg_python-0.2.0-py3-none-any.whl.metadata (1.7 kB)\r\n",
      "Requirement already satisfied: future in /usr/local/lib/python3.11/dist-packages (from ffmpeg-python) (1.0.0)\r\n",
      "Downloading ffmpeg_python-0.2.0-py3-none-any.whl (25 kB)\r\n",
      "Installing collected packages: ffmpeg-python\r\n",
      "Successfully installed ffmpeg-python-0.2.0\r\n"
     ]
    }
   ],
   "source": [
    "!pip install ffmpeg-python"
   ]
  },
  {
   "cell_type": "code",
   "execution_count": 3,
   "id": "5e7d6342",
   "metadata": {
    "execution": {
     "iopub.execute_input": "2025-06-09T13:43:41.204656Z",
     "iopub.status.busy": "2025-06-09T13:43:41.204430Z",
     "iopub.status.idle": "2025-06-09T13:43:41.210665Z",
     "shell.execute_reply": "2025-06-09T13:43:41.209861Z"
    },
    "papermill": {
     "duration": 0.010888,
     "end_time": "2025-06-09T13:43:41.211832",
     "exception": false,
     "start_time": "2025-06-09T13:43:41.200944",
     "status": "completed"
    },
    "tags": []
   },
   "outputs": [
    {
     "name": "stdout",
     "output_type": "stream",
     "text": [
      "/kaggle/working/TransNetV2/inference\n"
     ]
    }
   ],
   "source": [
    "%cd TransNetV2/inference"
   ]
  },
  {
   "cell_type": "code",
   "execution_count": 4,
   "id": "4689b2a7",
   "metadata": {
    "execution": {
     "iopub.execute_input": "2025-06-09T13:43:41.216982Z",
     "iopub.status.busy": "2025-06-09T13:43:41.216494Z",
     "iopub.status.idle": "2025-06-09T13:43:56.658045Z",
     "shell.execute_reply": "2025-06-09T13:43:56.657445Z"
    },
    "papermill": {
     "duration": 15.44548,
     "end_time": "2025-06-09T13:43:56.659421",
     "exception": false,
     "start_time": "2025-06-09T13:43:41.213941",
     "status": "completed"
    },
    "tags": []
   },
   "outputs": [
    {
     "name": "stderr",
     "output_type": "stream",
     "text": [
      "2025-06-09 13:43:42.788664: E external/local_xla/xla/stream_executor/cuda/cuda_fft.cc:477] Unable to register cuFFT factory: Attempting to register factory for plugin cuFFT when one has already been registered\n",
      "WARNING: All log messages before absl::InitializeLog() is called are written to STDERR\n",
      "E0000 00:00:1749476622.979899      19 cuda_dnn.cc:8310] Unable to register cuDNN factory: Attempting to register factory for plugin cuDNN when one has already been registered\n",
      "E0000 00:00:1749476623.037146      19 cuda_blas.cc:1418] Unable to register cuBLAS factory: Attempting to register factory for plugin cuBLAS when one has already been registered\n"
     ]
    }
   ],
   "source": [
    "from transnetv2 import TransNetV2\n",
    "import os"
   ]
  },
  {
   "cell_type": "code",
   "execution_count": 5,
   "id": "75bff177",
   "metadata": {
    "execution": {
     "iopub.execute_input": "2025-06-09T13:43:56.665261Z",
     "iopub.status.busy": "2025-06-09T13:43:56.664853Z",
     "iopub.status.idle": "2025-06-09T13:43:56.669466Z",
     "shell.execute_reply": "2025-06-09T13:43:56.668766Z"
    },
    "papermill": {
     "duration": 0.008621,
     "end_time": "2025-06-09T13:43:56.670590",
     "exception": false,
     "start_time": "2025-06-09T13:43:56.661969",
     "status": "completed"
    },
    "tags": []
   },
   "outputs": [],
   "source": [
    "def process_video(video_path, model, output_dir):\n",
    "    # Predict\n",
    "    _, single_frame_predictions, _ = model.predict_video(video_path)\n",
    "    scenes = model.predictions_to_scenes(single_frame_predictions)\n",
    "    # Ghi ra file kết quả\n",
    "    video_name = os.path.splitext(os.path.basename(video_path))[0]\n",
    "    result_file = os.path.join(output_dir, f\"{video_name}_shots.txt\")\n",
    "    with open(result_file, \"w\") as f:\n",
    "        for start, end in scenes:\n",
    "            f.write(f\"{start} {end}\\n\")"
   ]
  },
  {
   "cell_type": "code",
   "execution_count": 6,
   "id": "0623d3d0",
   "metadata": {
    "execution": {
     "iopub.execute_input": "2025-06-09T13:43:56.675539Z",
     "iopub.status.busy": "2025-06-09T13:43:56.675338Z",
     "iopub.status.idle": "2025-06-09T13:43:56.679317Z",
     "shell.execute_reply": "2025-06-09T13:43:56.678654Z"
    },
    "papermill": {
     "duration": 0.007864,
     "end_time": "2025-06-09T13:43:56.680697",
     "exception": false,
     "start_time": "2025-06-09T13:43:56.672833",
     "status": "completed"
    },
    "tags": []
   },
   "outputs": [],
   "source": [
    "def process_folder(input_folder, output_folder):\n",
    "    os.makedirs(output_folder, exist_ok=True)\n",
    "    model = TransNetV2()\n",
    "    for file_name in os.listdir(input_folder):\n",
    "        if file_name.lower().endswith(('.mp4', '.avi', '.mov', '.mkv')):\n",
    "            video_path = os.path.join(input_folder, file_name)\n",
    "            print(f\"Processing: {video_path}\")\n",
    "            process_video(video_path, model, output_folder)"
   ]
  },
  {
   "cell_type": "code",
   "execution_count": 7,
   "id": "69a9754b",
   "metadata": {
    "execution": {
     "iopub.execute_input": "2025-06-09T13:43:56.685607Z",
     "iopub.status.busy": "2025-06-09T13:43:56.685413Z",
     "iopub.status.idle": "2025-06-09T13:45:23.616063Z",
     "shell.execute_reply": "2025-06-09T13:45:23.615290Z"
    },
    "papermill": {
     "duration": 86.934562,
     "end_time": "2025-06-09T13:45:23.617481",
     "exception": false,
     "start_time": "2025-06-09T13:43:56.682919",
     "status": "completed"
    },
    "tags": []
   },
   "outputs": [
    {
     "name": "stdout",
     "output_type": "stream",
     "text": [
      "[TransNetV2] Using weights from /kaggle/working/TransNetV2/inference/transnetv2-weights/.\n"
     ]
    },
    {
     "name": "stderr",
     "output_type": "stream",
     "text": [
      "I0000 00:00:1749476642.444010      19 gpu_device.cc:2022] Created device /job:localhost/replica:0/task:0/device:GPU:0 with 13942 MB memory:  -> device: 0, name: Tesla T4, pci bus id: 0000:00:04.0, compute capability: 7.5\n",
      "I0000 00:00:1749476642.444703      19 gpu_device.cc:2022] Created device /job:localhost/replica:0/task:0/device:GPU:1 with 13942 MB memory:  -> device: 1, name: Tesla T4, pci bus id: 0000:00:05.0, compute capability: 7.5\n"
     ]
    },
    {
     "name": "stdout",
     "output_type": "stream",
     "text": [
      "Processing: /kaggle/input/news-video/video1705/video1705/video1705_02.mp4\n",
      "[TransNetV2] Extracting frames from /kaggle/input/news-video/video1705/video1705/video1705_02.mp4\n"
     ]
    },
    {
     "name": "stderr",
     "output_type": "stream",
     "text": [
      "I0000 00:00:1749476667.798084     117 cuda_dnn.cc:529] Loaded cuDNN version 90300\n"
     ]
    },
    {
     "name": "stdout",
     "output_type": "stream",
     "text": [
      "[TransNetV2] Processing video frames 16389/16389\n",
      "Processing: /kaggle/input/news-video/video1705/video1705/video1705_03.mp4\n",
      "[TransNetV2] Extracting frames from /kaggle/input/news-video/video1705/video1705/video1705_03.mp4\n",
      "[TransNetV2] Processing video frames 16389/16389\n",
      "Processing: /kaggle/input/news-video/video1705/video1705/video1705_01.mp4\n",
      "[TransNetV2] Extracting frames from /kaggle/input/news-video/video1705/video1705/video1705_01.mp4\n",
      "[TransNetV2] Processing video frames 12186/12186\n"
     ]
    }
   ],
   "source": [
    "input_folder = \"/kaggle/input/news-video/video1705/video1705\"\n",
    "output_folder = \"/kaggle/working/shots\"     \n",
    "\n",
    "process_folder(input_folder, output_folder)"
   ]
  }
 ],
 "metadata": {
  "kaggle": {
   "accelerator": "nvidiaTeslaT4",
   "dataSources": [
    {
     "datasetId": 7453184,
     "sourceId": 11861031,
     "sourceType": "datasetVersion"
    }
   ],
   "dockerImageVersionId": 31040,
   "isGpuEnabled": true,
   "isInternetEnabled": true,
   "language": "python",
   "sourceType": "notebook"
  },
  "kernelspec": {
   "display_name": "Python 3",
   "language": "python",
   "name": "python3"
  },
  "language_info": {
   "codemirror_mode": {
    "name": "ipython",
    "version": 3
   },
   "file_extension": ".py",
   "mimetype": "text/x-python",
   "name": "python",
   "nbconvert_exporter": "python",
   "pygments_lexer": "ipython3",
   "version": "3.11.11"
  },
  "papermill": {
   "default_parameters": {},
   "duration": 115.22996,
   "end_time": "2025-06-09T13:45:26.714928",
   "environment_variables": {},
   "exception": null,
   "input_path": "__notebook__.ipynb",
   "output_path": "__notebook__.ipynb",
   "parameters": {},
   "start_time": "2025-06-09T13:43:31.484968",
   "version": "2.6.0"
  }
 },
 "nbformat": 4,
 "nbformat_minor": 5
}
