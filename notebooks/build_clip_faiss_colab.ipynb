{
  "cells": [
    {
      "cell_type": "markdown",
      "metadata": {
        "id": "ybv1MWkC5ng2"
      },
      "source": [
        "# Settings"
      ]
    },
    {
      "cell_type": "code",
      "execution_count": null,
      "metadata": {
        "colab": {
          "base_uri": "https://localhost:8080/"
        },
        "collapsed": true,
        "id": "WHpPy7QjyyTx",
        "outputId": "aa64c22b-d053-4645-e8e5-9e187047d97e"
      },
      "outputs": [],
      "source": [
        "!git clone https://github.com/QuocThinh73/HCMAI2025.git"
      ]
    },
    {
      "cell_type": "code",
      "execution_count": null,
      "metadata": {
        "colab": {
          "base_uri": "https://localhost:8080/"
        },
        "id": "dpNrp8DJy-TW",
        "outputId": "a5f8d997-92d7-486c-c73e-5424bfc0574a"
      },
      "outputs": [],
      "source": [
        "%cd HCMAI2025"
      ]
    },
    {
      "cell_type": "code",
      "execution_count": null,
      "metadata": {
        "colab": {
          "base_uri": "https://localhost:8080/"
        },
        "collapsed": true,
        "id": "faX7S0f6R2Pl",
        "outputId": "b0140a62-cb50-4b8a-aed2-01ce44faea3f"
      },
      "outputs": [],
      "source": [
        "!pip install git+https://github.com/openai/CLIP.git"
      ]
    },
    {
      "cell_type": "code",
      "execution_count": null,
      "metadata": {
        "colab": {
          "base_uri": "https://localhost:8080/"
        },
        "collapsed": true,
        "id": "OECeFU_FHkWx",
        "outputId": "410e0294-1c08-44b4-82a6-49ab707ff9ab"
      },
      "outputs": [],
      "source": [
        "!pip install faiss-cpu==1.11.0"
      ]
    },
    {
      "cell_type": "markdown",
      "metadata": {
        "id": "lmmnTl24XUNH"
      },
      "source": [
        "# Tải và Giải nén"
      ]
    },
    {
      "cell_type": "code",
      "execution_count": null,
      "metadata": {
        "colab": {
          "base_uri": "https://localhost:8080/"
        },
        "collapsed": true,
        "id": "14KjSUU6_hKp",
        "outputId": "5b79b3a9-d1f4-4e57-a9e4-87a3f2e7a149"
      },
      "outputs": [],
      "source": [
        "!gdown --id 1qROoBnsGqt3hoNOz9AwA1cOO207E12Gd"
      ]
    },
    {
      "cell_type": "code",
      "execution_count": null,
      "metadata": {
        "colab": {
          "base_uri": "https://localhost:8080/"
        },
        "collapsed": true,
        "id": "-08r2kbg_35B",
        "outputId": "26bbc6c3-d820-4be7-ecd0-7c760560f90a"
      },
      "outputs": [],
      "source": [
        "!unzip data.zip -d ."
      ]
    },
    {
      "cell_type": "markdown",
      "metadata": {
        "id": "5CFydERV3rYF"
      },
      "source": [
        "# Build FAISS"
      ]
    },
    {
      "cell_type": "code",
      "execution_count": null,
      "metadata": {
        "colab": {
          "base_uri": "https://localhost:8080/"
        },
        "collapsed": true,
        "id": "GLfAV0bp3k8o",
        "outputId": "3f46263d-abd1-47a8-fd44-ce94a44d33dd"
      },
      "outputs": [],
      "source": [
        "import glob\n",
        "\n",
        "image_paths = sorted(glob.glob(\"data/keyframes/*.jpg\", recursive=True))\n",
        "image_paths"
      ]
    },
    {
      "cell_type": "code",
      "execution_count": 8,
      "metadata": {
        "colab": {
          "base_uri": "https://localhost:8080/"
        },
        "id": "WRjiDlSsX-dz",
        "outputId": "69ccc2e2-e5ff-4522-9367-ea9814991587"
      },
      "outputs": [
        {
          "name": "stderr",
          "output_type": "stream",
          "text": [
            "100%|███████████████████████████████████████| 338M/338M [00:24<00:00, 14.7MiB/s]\n"
          ]
        }
      ],
      "source": [
        "from models.clip import CLIP\n",
        "\n",
        "model = CLIP()"
      ]
    },
    {
      "cell_type": "code",
      "execution_count": 9,
      "metadata": {
        "id": "-o_-23QWCNJg"
      },
      "outputs": [],
      "source": [
        "from faiss_index import FaissIndex\n",
        "\n",
        "my_faiss = FaissIndex(model=model)"
      ]
    },
    {
      "cell_type": "code",
      "execution_count": 10,
      "metadata": {
        "id": "zMCjN0Habe9D"
      },
      "outputs": [],
      "source": [
        "model_name = \"clip\"\n",
        "\n",
        "my_faiss.build(image_paths=image_paths, model_name=model_name)"
      ]
    },
    {
      "cell_type": "markdown",
      "metadata": {
        "id": "_CfZCwKx5l8c"
      },
      "source": [
        "# Test"
      ]
    },
    {
      "cell_type": "code",
      "execution_count": 11,
      "metadata": {
        "id": "Dy-ss4885m1o"
      },
      "outputs": [],
      "source": [
        "import matplotlib.pyplot as plt\n",
        "from PIL import Image\n",
        "\n",
        "def display_results(paths, scores=None, max_images=5):\n",
        "    \"\"\"Display image results in Colab.\"\"\"\n",
        "    n = min(len(paths), max_images)\n",
        "    fig, axes = plt.subplots(1, n, figsize=(15, 3))\n",
        "\n",
        "    if n == 1:\n",
        "        axes = [axes]\n",
        "\n",
        "    for i in range(n):\n",
        "        try:\n",
        "            img = Image.open(paths[i])\n",
        "            axes[i].imshow(img)\n",
        "            if scores is not None:\n",
        "                axes[i].set_title(f\"Score: {scores[i]:.4f}\")\n",
        "            axes[i].axis('off')\n",
        "        except Exception as e:\n",
        "            print(f\"Error displaying image {paths[i]}: {e}\")\n",
        "\n",
        "    plt.tight_layout()\n",
        "    plt.show()"
      ]
    },
    {
      "cell_type": "code",
      "execution_count": 12,
      "metadata": {
        "id": "d3RoDA-Y50w_"
      },
      "outputs": [],
      "source": [
        "# Load FAISS index\n",
        "index_path = f\"database/{model_name}_faiss.bin\"\n",
        "id2path_path = f\"database/{model_name}_id2path.pkl\"\n",
        "\n",
        "my_faiss.load(index_path, id2path_path)"
      ]
    },
    {
      "cell_type": "code",
      "execution_count": null,
      "metadata": {
        "colab": {
          "base_uri": "https://localhost:8080/",
          "height": 285
        },
        "id": "CQObc0fU6uap",
        "outputId": "0854d255-4ff4-4b66-eb7c-24dc8ca1274c"
      },
      "outputs": [],
      "source": [
        "query = \"Docter\"\n",
        "scores, indices, paths = my_faiss.text_search(query, top_k=5)\n",
        "\n",
        "for i, (score, idx, path) in enumerate(zip(scores, indices, paths)):\n",
        "           print(f\"{i+1}. Score: {score:.4f}, Index: {idx}, Path: {path}\")\n",
        "\n",
        "display_results(paths, scores, 5)"
      ]
    }
  ],
  "metadata": {
    "accelerator": "GPU",
    "colab": {
      "gpuType": "T4",
      "provenance": []
    },
    "kernelspec": {
      "display_name": "Python 3",
      "name": "python3"
    },
    "language_info": {
      "name": "python"
    }
  },
  "nbformat": 4,
  "nbformat_minor": 0
}
