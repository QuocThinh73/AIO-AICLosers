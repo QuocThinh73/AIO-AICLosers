{
 "cells": [
  {
   "cell_type": "markdown",
   "metadata": {
    "id": "ybv1MWkC5ng2"
   },
   "source": [
    "# Settings"
   ]
  },
  {
   "cell_type": "code",
   "execution_count": null,
   "metadata": {
    "execution": {
     "iopub.execute_input": "2025-06-24T12:36:09.435538Z",
     "iopub.status.busy": "2025-06-24T12:36:09.435322Z",
     "iopub.status.idle": "2025-06-24T12:36:12.140333Z",
     "shell.execute_reply": "2025-06-24T12:36:12.139347Z",
     "shell.execute_reply.started": "2025-06-24T12:36:09.435513Z"
    },
    "id": "WHpPy7QjyyTx",
    "outputId": "9b7c7794-10af-4b1e-83be-634e12220849",
    "trusted": true
   },
   "outputs": [],
   "source": [
    "!git clone https://github.com/QuocThinh73/HCMAI2025.git"
   ]
  },
  {
   "cell_type": "code",
   "execution_count": null,
   "metadata": {
    "execution": {
     "iopub.execute_input": "2025-06-24T12:36:12.142604Z",
     "iopub.status.busy": "2025-06-24T12:36:12.142261Z",
     "iopub.status.idle": "2025-06-24T12:36:12.149077Z",
     "shell.execute_reply": "2025-06-24T12:36:12.148221Z",
     "shell.execute_reply.started": "2025-06-24T12:36:12.142571Z"
    },
    "id": "dpNrp8DJy-TW",
    "outputId": "c73d8e68-87e7-4775-c569-58ed04765393",
    "trusted": true
   },
   "outputs": [],
   "source": [
    "%cd HCMAI2025"
   ]
  },
  {
   "cell_type": "code",
   "execution_count": null,
   "metadata": {
    "execution": {
     "iopub.execute_input": "2025-06-24T12:36:12.150436Z",
     "iopub.status.busy": "2025-06-24T12:36:12.150160Z",
     "iopub.status.idle": "2025-06-24T12:37:30.091205Z",
     "shell.execute_reply": "2025-06-24T12:37:30.090441Z",
     "shell.execute_reply.started": "2025-06-24T12:36:12.150403Z"
    },
    "id": "0zwKFFjFqPjI",
    "outputId": "e14cd9aa-3fbe-412d-f06d-cc2417142948",
    "trusted": true
   },
   "outputs": [],
   "source": [
    "!pip install open_clip_torch"
   ]
  },
  {
   "cell_type": "code",
   "execution_count": null,
   "metadata": {
    "execution": {
     "iopub.execute_input": "2025-06-24T12:37:30.092531Z",
     "iopub.status.busy": "2025-06-24T12:37:30.092234Z",
     "iopub.status.idle": "2025-06-24T12:37:34.766360Z",
     "shell.execute_reply": "2025-06-24T12:37:34.765532Z",
     "shell.execute_reply.started": "2025-06-24T12:37:30.092493Z"
    },
    "id": "OECeFU_FHkWx",
    "outputId": "7aa18f21-7ddf-4c4f-9c0a-7fe159cda9c1",
    "trusted": true
   },
   "outputs": [],
   "source": [
    "!pip install faiss-cpu==1.11.0"
   ]
  },
  {
   "cell_type": "markdown",
   "metadata": {
    "id": "lmmnTl24XUNH"
   },
   "source": [
    "# Tải và Giải nén"
   ]
  },
  {
   "cell_type": "code",
   "execution_count": null,
   "metadata": {
    "execution": {
     "iopub.execute_input": "2025-06-24T12:37:34.768461Z",
     "iopub.status.busy": "2025-06-24T12:37:34.768230Z",
     "iopub.status.idle": "2025-06-24T12:37:53.883930Z",
     "shell.execute_reply": "2025-06-24T12:37:53.883066Z",
     "shell.execute_reply.started": "2025-06-24T12:37:34.768436Z"
    },
    "id": "14KjSUU6_hKp",
    "outputId": "f8b96fce-9ef4-4026-85bc-8839ac8f95d3",
    "trusted": true
   },
   "outputs": [],
   "source": [
    "!gdown 12NJW4WjmygihyxR00R0XEf-ldyAUtgwh"
   ]
  },
  {
   "cell_type": "code",
   "execution_count": null,
   "metadata": {
    "execution": {
     "iopub.execute_input": "2025-06-24T12:37:53.885318Z",
     "iopub.status.busy": "2025-06-24T12:37:53.884996Z",
     "iopub.status.idle": "2025-06-24T12:38:04.451407Z",
     "shell.execute_reply": "2025-06-24T12:38:04.450426Z",
     "shell.execute_reply.started": "2025-06-24T12:37:53.885282Z"
    },
    "id": "-08r2kbg_35B",
    "outputId": "ad6ee3af-58bc-4ad9-e849-ea9cdfa63794",
    "trusted": true
   },
   "outputs": [],
   "source": [
    "!unzip -o database.zip -d ."
   ]
  },
  {
   "cell_type": "markdown",
   "metadata": {
    "id": "5CFydERV3rYF"
   },
   "source": [
    "# Build FAISS"
   ]
  },
  {
   "cell_type": "code",
   "execution_count": null,
   "metadata": {
    "execution": {
     "iopub.execute_input": "2025-06-24T12:38:04.452816Z",
     "iopub.status.busy": "2025-06-24T12:38:04.452502Z",
     "iopub.status.idle": "2025-06-24T12:38:20.568626Z",
     "shell.execute_reply": "2025-06-24T12:38:20.567809Z",
     "shell.execute_reply.started": "2025-06-24T12:38:04.452780Z"
    },
    "id": "k3BE6_WfqWGB",
    "outputId": "b7d6656d-7acc-42b4-8324-fca93d369930",
    "trusted": true
   },
   "outputs": [],
   "source": [
    "import os\n",
    "import open_clip\n",
    "\n",
    "open_clip.list_pretrained()"
   ]
  },
  {
   "cell_type": "code",
   "execution_count": null,
   "metadata": {
    "execution": {
     "iopub.execute_input": "2025-06-24T12:38:20.570414Z",
     "iopub.status.busy": "2025-06-24T12:38:20.569526Z",
     "iopub.status.idle": "2025-06-24T12:38:28.243746Z",
     "shell.execute_reply": "2025-06-24T12:38:28.243190Z",
     "shell.execute_reply.started": "2025-06-24T12:38:20.570390Z"
    },
    "id": "WRjiDlSsX-dz",
    "outputId": "9a03233a-3afd-4b2b-ab9b-db00c4ac283c",
    "trusted": true
   },
   "outputs": [],
   "source": [
    "from models.openclip import OpenCLIP\n",
    "\n",
    "BACKBONE = \"ViT-SO400M-14-SigLIP-384\"\n",
    "PRETRAINED = \"webli\"\n",
    "model = OpenCLIP(backbone=BACKBONE, pretrained=PRETRAINED)"
   ]
  },
  {
   "cell_type": "code",
   "execution_count": null,
   "metadata": {
    "execution": {
     "iopub.execute_input": "2025-06-24T06:42:31.378753Z",
     "iopub.status.busy": "2025-06-24T06:42:31.378555Z",
     "iopub.status.idle": "2025-06-24T06:42:31.412084Z",
     "shell.execute_reply": "2025-06-24T06:42:31.411543Z",
     "shell.execute_reply.started": "2025-06-24T06:42:31.378737Z"
    },
    "id": "-o_-23QWCNJg",
    "trusted": true
   },
   "outputs": [],
   "source": [
    "from faiss_index import Faiss\n",
    "\n",
    "my_faiss = Faiss(model=model)"
   ]
  },
  {
   "cell_type": "code",
   "execution_count": null,
   "metadata": {
    "execution": {
     "execution_failed": "2025-06-24T06:45:05.222Z",
     "iopub.execute_input": "2025-06-24T06:42:31.413061Z",
     "iopub.status.busy": "2025-06-24T06:42:31.412769Z"
    },
    "id": "zMCjN0Habe9D",
    "trusted": true
   },
   "outputs": [],
   "source": [
    "model_name = f\"OpenCLIP_{BACKBONE}_{PRETRAINED}\"\n",
    "\n",
    "id2path_path = os.path.join(\"database\", \"id2path.json\")\n",
    "my_faiss.build(mapping_json=id2path_path, model_name=model_name)"
   ]
  },
  {
   "cell_type": "markdown",
   "metadata": {
    "id": "_CfZCwKx5l8c"
   },
   "source": [
    "# Test"
   ]
  },
  {
   "cell_type": "code",
   "execution_count": null,
   "metadata": {
    "execution": {
     "execution_failed": "2025-06-24T06:45:05.223Z"
    },
    "id": "Dy-ss4885m1o",
    "trusted": true
   },
   "outputs": [],
   "source": [
    "import matplotlib.pyplot as plt\n",
    "from PIL import Image\n",
    "\n",
    "def display_results(paths, scores=None, max_images=5):\n",
    "    \"\"\"Display image results in Colab.\"\"\"\n",
    "    n = min(len(paths), max_images)\n",
    "    fig, axes = plt.subplots(1, n, figsize=(15, 3))\n",
    "\n",
    "    if n == 1:\n",
    "        axes = [axes]\n",
    "\n",
    "    for i in range(n):\n",
    "        try:\n",
    "            img = Image.open(paths[i])\n",
    "            axes[i].imshow(img)\n",
    "            if scores is not None:\n",
    "                axes[i].set_title(f\"Score: {scores[i]:.4f}\")\n",
    "            axes[i].axis('off')\n",
    "        except Exception as e:\n",
    "            print(f\"Error displaying image {paths[i]}: {e}\")\n",
    "\n",
    "    plt.tight_layout()\n",
    "    plt.show()"
   ]
  },
  {
   "cell_type": "code",
   "execution_count": null,
   "metadata": {
    "execution": {
     "execution_failed": "2025-06-24T06:45:05.223Z"
    },
    "id": "d3RoDA-Y50w_",
    "trusted": true
   },
   "outputs": [],
   "source": [
    "# Load FAISS index\n",
    "embeddings_path = os.path.join(\"database\", f\"{model_name}_embeddings.bin\")\n",
    "id2path_path = os.path.join(\"database\", \"id2path.json\")\n",
    "\n",
    "my_faiss.load(embeddings_path, id2path_path)"
   ]
  },
  {
   "cell_type": "code",
   "execution_count": null,
   "metadata": {
    "execution": {
     "execution_failed": "2025-06-24T06:45:05.223Z"
    },
    "id": "CQObc0fU6uap",
    "outputId": "d996f954-986c-427a-b760-3d380a0934df",
    "trusted": true
   },
   "outputs": [],
   "source": [
    "query = \"Doctor\"\n",
    "scores, indices, paths = my_faiss.text_search(query, top_k=10)\n",
    "\n",
    "for i, (score, idx, path) in enumerate(zip(scores, indices, paths)):\n",
    "           print(f\"{i+1}. Score: {score:.4f}, Index: {idx}, Path: {path}\")\n",
    "\n",
    "display_results(paths, scores, 5)"
   ]
  },
  {
   "cell_type": "markdown",
   "metadata": {},
   "source": [
    "# Delete file"
   ]
  },
  {
   "cell_type": "code",
   "execution_count": null,
   "metadata": {},
   "outputs": [],
   "source": [
    "!rm -rf database/keyframes database/shots database/videos database.zip"
   ]
  }
 ],
 "metadata": {
  "accelerator": "GPU",
  "colab": {
   "gpuType": "T4",
   "provenance": []
  },
  "kaggle": {
   "accelerator": "nvidiaTeslaT4",
   "dataSources": [],
   "dockerImageVersionId": 31040,
   "isGpuEnabled": true,
   "isInternetEnabled": true,
   "language": "python",
   "sourceType": "notebook"
  },
  "kernelspec": {
   "display_name": "Python 3",
   "language": "python",
   "name": "python3"
  },
  "language_info": {
   "codemirror_mode": {
    "name": "ipython",
    "version": 3
   },
   "file_extension": ".py",
   "mimetype": "text/x-python",
   "name": "python",
   "nbconvert_exporter": "python",
   "pygments_lexer": "ipython3",
   "version": "3.11.11"
  },
  "widgets": {
   "application/vnd.jupyter.widget-state+json": {
    "11d1329c78d342119c3e6e56723974e5": {
     "model_module": "@jupyter-widgets/controls",
     "model_module_version": "1.5.0",
     "model_name": "DescriptionStyleModel",
     "state": {
      "_model_module": "@jupyter-widgets/controls",
      "_model_module_version": "1.5.0",
      "_model_name": "DescriptionStyleModel",
      "_view_count": null,
      "_view_module": "@jupyter-widgets/base",
      "_view_module_version": "1.2.0",
      "_view_name": "StyleView",
      "description_width": ""
     }
    },
    "20e0edd980224f12b855d6f928deb38b": {
     "model_module": "@jupyter-widgets/base",
     "model_module_version": "1.2.0",
     "model_name": "LayoutModel",
     "state": {
      "_model_module": "@jupyter-widgets/base",
      "_model_module_version": "1.2.0",
      "_model_name": "LayoutModel",
      "_view_count": null,
      "_view_module": "@jupyter-widgets/base",
      "_view_module_version": "1.2.0",
      "_view_name": "LayoutView",
      "align_content": null,
      "align_items": null,
      "align_self": null,
      "border": null,
      "bottom": null,
      "display": null,
      "flex": null,
      "flex_flow": null,
      "grid_area": null,
      "grid_auto_columns": null,
      "grid_auto_flow": null,
      "grid_auto_rows": null,
      "grid_column": null,
      "grid_gap": null,
      "grid_row": null,
      "grid_template_areas": null,
      "grid_template_columns": null,
      "grid_template_rows": null,
      "height": null,
      "justify_content": null,
      "justify_items": null,
      "left": null,
      "margin": null,
      "max_height": null,
      "max_width": null,
      "min_height": null,
      "min_width": null,
      "object_fit": null,
      "object_position": null,
      "order": null,
      "overflow": null,
      "overflow_x": null,
      "overflow_y": null,
      "padding": null,
      "right": null,
      "top": null,
      "visibility": null,
      "width": null
     }
    },
    "3c04e980339945afbde9cdb57151d1df": {
     "model_module": "@jupyter-widgets/base",
     "model_module_version": "1.2.0",
     "model_name": "LayoutModel",
     "state": {
      "_model_module": "@jupyter-widgets/base",
      "_model_module_version": "1.2.0",
      "_model_name": "LayoutModel",
      "_view_count": null,
      "_view_module": "@jupyter-widgets/base",
      "_view_module_version": "1.2.0",
      "_view_name": "LayoutView",
      "align_content": null,
      "align_items": null,
      "align_self": null,
      "border": null,
      "bottom": null,
      "display": null,
      "flex": null,
      "flex_flow": null,
      "grid_area": null,
      "grid_auto_columns": null,
      "grid_auto_flow": null,
      "grid_auto_rows": null,
      "grid_column": null,
      "grid_gap": null,
      "grid_row": null,
      "grid_template_areas": null,
      "grid_template_columns": null,
      "grid_template_rows": null,
      "height": null,
      "justify_content": null,
      "justify_items": null,
      "left": null,
      "margin": null,
      "max_height": null,
      "max_width": null,
      "min_height": null,
      "min_width": null,
      "object_fit": null,
      "object_position": null,
      "order": null,
      "overflow": null,
      "overflow_x": null,
      "overflow_y": null,
      "padding": null,
      "right": null,
      "top": null,
      "visibility": null,
      "width": null
     }
    },
    "71799d232fc1472e9fff7c396eaa6545": {
     "model_module": "@jupyter-widgets/controls",
     "model_module_version": "1.5.0",
     "model_name": "DescriptionStyleModel",
     "state": {
      "_model_module": "@jupyter-widgets/controls",
      "_model_module_version": "1.5.0",
      "_model_name": "DescriptionStyleModel",
      "_view_count": null,
      "_view_module": "@jupyter-widgets/base",
      "_view_module_version": "1.2.0",
      "_view_name": "StyleView",
      "description_width": ""
     }
    },
    "74989ac2333a4dd4b84a8cfcabc224ed": {
     "model_module": "@jupyter-widgets/controls",
     "model_module_version": "1.5.0",
     "model_name": "ProgressStyleModel",
     "state": {
      "_model_module": "@jupyter-widgets/controls",
      "_model_module_version": "1.5.0",
      "_model_name": "ProgressStyleModel",
      "_view_count": null,
      "_view_module": "@jupyter-widgets/base",
      "_view_module_version": "1.2.0",
      "_view_name": "StyleView",
      "bar_color": null,
      "description_width": ""
     }
    },
    "9eb8d75e44194a3cbf4e7becb2b56275": {
     "model_module": "@jupyter-widgets/base",
     "model_module_version": "1.2.0",
     "model_name": "LayoutModel",
     "state": {
      "_model_module": "@jupyter-widgets/base",
      "_model_module_version": "1.2.0",
      "_model_name": "LayoutModel",
      "_view_count": null,
      "_view_module": "@jupyter-widgets/base",
      "_view_module_version": "1.2.0",
      "_view_name": "LayoutView",
      "align_content": null,
      "align_items": null,
      "align_self": null,
      "border": null,
      "bottom": null,
      "display": null,
      "flex": null,
      "flex_flow": null,
      "grid_area": null,
      "grid_auto_columns": null,
      "grid_auto_flow": null,
      "grid_auto_rows": null,
      "grid_column": null,
      "grid_gap": null,
      "grid_row": null,
      "grid_template_areas": null,
      "grid_template_columns": null,
      "grid_template_rows": null,
      "height": null,
      "justify_content": null,
      "justify_items": null,
      "left": null,
      "margin": null,
      "max_height": null,
      "max_width": null,
      "min_height": null,
      "min_width": null,
      "object_fit": null,
      "object_position": null,
      "order": null,
      "overflow": null,
      "overflow_x": null,
      "overflow_y": null,
      "padding": null,
      "right": null,
      "top": null,
      "visibility": null,
      "width": null
     }
    },
    "b1375a7cb5634758a0977ab099df9196": {
     "model_module": "@jupyter-widgets/controls",
     "model_module_version": "1.5.0",
     "model_name": "HTMLModel",
     "state": {
      "_dom_classes": [],
      "_model_module": "@jupyter-widgets/controls",
      "_model_module_version": "1.5.0",
      "_model_name": "HTMLModel",
      "_view_count": null,
      "_view_module": "@jupyter-widgets/controls",
      "_view_module_version": "1.5.0",
      "_view_name": "HTMLView",
      "description": "",
      "description_tooltip": null,
      "layout": "IPY_MODEL_3c04e980339945afbde9cdb57151d1df",
      "placeholder": "​",
      "style": "IPY_MODEL_71799d232fc1472e9fff7c396eaa6545",
      "value": " 605M/605M [00:02&lt;00:00, 271MB/s]"
     }
    },
    "b8d5de11bd79434ea1f7b4a46b168e2b": {
     "model_module": "@jupyter-widgets/base",
     "model_module_version": "1.2.0",
     "model_name": "LayoutModel",
     "state": {
      "_model_module": "@jupyter-widgets/base",
      "_model_module_version": "1.2.0",
      "_model_name": "LayoutModel",
      "_view_count": null,
      "_view_module": "@jupyter-widgets/base",
      "_view_module_version": "1.2.0",
      "_view_name": "LayoutView",
      "align_content": null,
      "align_items": null,
      "align_self": null,
      "border": null,
      "bottom": null,
      "display": null,
      "flex": null,
      "flex_flow": null,
      "grid_area": null,
      "grid_auto_columns": null,
      "grid_auto_flow": null,
      "grid_auto_rows": null,
      "grid_column": null,
      "grid_gap": null,
      "grid_row": null,
      "grid_template_areas": null,
      "grid_template_columns": null,
      "grid_template_rows": null,
      "height": null,
      "justify_content": null,
      "justify_items": null,
      "left": null,
      "margin": null,
      "max_height": null,
      "max_width": null,
      "min_height": null,
      "min_width": null,
      "object_fit": null,
      "object_position": null,
      "order": null,
      "overflow": null,
      "overflow_x": null,
      "overflow_y": null,
      "padding": null,
      "right": null,
      "top": null,
      "visibility": null,
      "width": null
     }
    },
    "b9f5a89858f440eab391b84027dbadcc": {
     "model_module": "@jupyter-widgets/controls",
     "model_module_version": "1.5.0",
     "model_name": "FloatProgressModel",
     "state": {
      "_dom_classes": [],
      "_model_module": "@jupyter-widgets/controls",
      "_model_module_version": "1.5.0",
      "_model_name": "FloatProgressModel",
      "_view_count": null,
      "_view_module": "@jupyter-widgets/controls",
      "_view_module_version": "1.5.0",
      "_view_name": "ProgressView",
      "bar_style": "success",
      "description": "",
      "description_tooltip": null,
      "layout": "IPY_MODEL_9eb8d75e44194a3cbf4e7becb2b56275",
      "max": 605143316,
      "min": 0,
      "orientation": "horizontal",
      "style": "IPY_MODEL_74989ac2333a4dd4b84a8cfcabc224ed",
      "value": 605143316
     }
    },
    "cbe771f588d44e18bf7485375174b080": {
     "model_module": "@jupyter-widgets/controls",
     "model_module_version": "1.5.0",
     "model_name": "HBoxModel",
     "state": {
      "_dom_classes": [],
      "_model_module": "@jupyter-widgets/controls",
      "_model_module_version": "1.5.0",
      "_model_name": "HBoxModel",
      "_view_count": null,
      "_view_module": "@jupyter-widgets/controls",
      "_view_module_version": "1.5.0",
      "_view_name": "HBoxView",
      "box_style": "",
      "children": [
       "IPY_MODEL_f5eb04d0996c43f9a8cb57a69667fb59",
       "IPY_MODEL_b9f5a89858f440eab391b84027dbadcc",
       "IPY_MODEL_b1375a7cb5634758a0977ab099df9196"
      ],
      "layout": "IPY_MODEL_b8d5de11bd79434ea1f7b4a46b168e2b"
     }
    },
    "f5eb04d0996c43f9a8cb57a69667fb59": {
     "model_module": "@jupyter-widgets/controls",
     "model_module_version": "1.5.0",
     "model_name": "HTMLModel",
     "state": {
      "_dom_classes": [],
      "_model_module": "@jupyter-widgets/controls",
      "_model_module_version": "1.5.0",
      "_model_name": "HTMLModel",
      "_view_count": null,
      "_view_module": "@jupyter-widgets/controls",
      "_view_module_version": "1.5.0",
      "_view_name": "HTMLView",
      "description": "",
      "description_tooltip": null,
      "layout": "IPY_MODEL_20e0edd980224f12b855d6f928deb38b",
      "placeholder": "​",
      "style": "IPY_MODEL_11d1329c78d342119c3e6e56723974e5",
      "value": "open_clip_model.safetensors: 100%"
     }
    }
   }
  }
 },
 "nbformat": 4,
 "nbformat_minor": 4
}
